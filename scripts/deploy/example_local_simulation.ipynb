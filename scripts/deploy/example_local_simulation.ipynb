{
 "cells": [
  {
   "cell_type": "code",
   "execution_count": null,
   "id": "204aa693",
   "metadata": {},
   "outputs": [],
   "source": [
    "import time\n",
    "import re\n",
    "import pylab as pl\n",
    "import numpy as np\n",
    "import pylab as pl\n",
    "\n",
    "from datetime import datetime, timedelta\n",
    "\n",
    "import subprocess\n",
    "\n",
    "import os\n",
    "import time\n",
    "from concurrent.futures import ThreadPoolExecutor, ProcessPoolExecutor\n",
    "import subprocess\n",
    "import numpy as np\n",
    "\n",
    "from joblib import Parallel, delayed\n",
    "import shutil"
   ]
  },
  {
   "cell_type": "code",
   "execution_count": null,
   "id": "5434c35f",
   "metadata": {},
   "outputs": [],
   "source": [
    "## Enter sudo password here\n",
    "password = \"3108\""
   ]
  },
  {
   "cell_type": "code",
   "execution_count": null,
   "id": "598e1530",
   "metadata": {},
   "outputs": [],
   "source": [
    "\n",
    "def str2datetime(s):\n",
    "    parts = s.split('.')\n",
    "    dt = datetime.strptime(parts[0], \"%Y-%m-%d %H:%M:%S\")\n",
    "    return dt.replace(microsecond=int(parts[1]))\n",
    "\n",
    "\n",
    "def remove_outliers(x, outlierConstant = 1.5):\n",
    "    a = np.array(x)\n",
    "    upper_quartile = np.percentile(a, 75)\n",
    "    lower_quartile = np.percentile(a, 25)\n",
    "    IQR = (upper_quartile - lower_quartile) * outlierConstant\n",
    "    quartileSet = (lower_quartile - IQR, upper_quartile + IQR)\n",
    "    resultList = []\n",
    "    removedList = []\n",
    "    for y in a.tolist():\n",
    "        if y >= quartileSet[0] and y <= quartileSet[1]:\n",
    "            resultList.append(y)\n",
    "        else:\n",
    "            removedList.append(y)\n",
    "    return (resultList, removedList)\n",
    "def getThroughput(experiment):\n",
    "    \n",
    "    temp_lines = []\n",
    "\n",
    "    result = subprocess.check_output('cat ../'+experiment+'/nohup_client_*', shell=True)\n",
    "\n",
    "\n",
    "    result = result.decode(\"utf-8\") \n",
    "\n",
    "    lines = result.split('\\n')\n",
    "\n",
    "    commit_pat = re.compile('([^[].*) \\[hotstuff info\\] ([0-9.]*)$')\n",
    "#     commit_pat = re.compile('([^[].*) \\[hotstuff info\\] got*')\n",
    "\n",
    "    Times = []\n",
    "    lats = []\n",
    "\n",
    "    for line in lines:\n",
    "        m = commit_pat.match(line)\n",
    "        if m:\n",
    "            try:\n",
    "                temp_lines.append(line)\n",
    "                time_item = float((line.split(' ')[1]).split(':')[0])*3600 + float((line.split(' ')[1]).split(':')[1])*60 + \\\n",
    "                float((line.split(' ')[1]).split(':')[2])\n",
    "                Times.append(time_item)        \n",
    "\n",
    "                lats.append(float(m.group(2)))\n",
    "            except:\n",
    "                continue\n",
    "\n",
    "\n",
    "    begin_time = None\n",
    "    values = []\n",
    "    interval = 1\n",
    "    cnt = 0\n",
    "    Times.sort()\n",
    "    for timestamp in Times:\n",
    "        if begin_time is None:\n",
    "            begin_time = timestamp\n",
    "            next_begin_time = timestamp +interval\n",
    "\n",
    "        while timestamp >= next_begin_time:\n",
    "            begin_time = next_begin_time\n",
    "            next_begin_time += interval\n",
    "            values.append(cnt)\n",
    "            cnt = 0\n",
    "        cnt += 1\n",
    "    values.append(cnt)\n",
    "\n",
    "#     lats, _ = remove_outliers(lats)\n",
    "#     print(len(values))\n",
    "\n",
    "\n",
    "    return np.arange(len(values))*interval,np.array(values)/interval, lats, temp_lines\n"
   ]
  },
  {
   "cell_type": "code",
   "execution_count": null,
   "id": "1e47ac03",
   "metadata": {},
   "outputs": [],
   "source": [
    "with open('all_local_ips','r') as firstfile, open('all_external_ips','w') as secondfile:\n",
    "      \n",
    "    # read content from first file\n",
    "    for line in firstfile:\n",
    "\n",
    "        secondfile.write(line)\n",
    "        \n",
    "        \n",
    "with open('all_local_ips','r') as firstfile, open('all_internal_ips','w') as secondfile:\n",
    "      \n",
    "    # read content from first file\n",
    "    for line in firstfile:\n",
    "\n",
    "        secondfile.write(line)"
   ]
  },
  {
   "cell_type": "code",
   "execution_count": null,
   "id": "b60179c9",
   "metadata": {},
   "outputs": [],
   "source": []
  },
  {
   "cell_type": "code",
   "execution_count": null,
   "id": "c0bbe29d",
   "metadata": {},
   "outputs": [],
   "source": [
    "nclients = 2\n",
    "nnodes = 8"
   ]
  },
  {
   "cell_type": "code",
   "execution_count": null,
   "id": "85f0ce83",
   "metadata": {},
   "outputs": [],
   "source": []
  },
  {
   "cell_type": "code",
   "execution_count": null,
   "id": "8d89b26a",
   "metadata": {},
   "outputs": [],
   "source": [
    "f = open('all_external_ips', \"r\")\n",
    "data1 = [line.strip() for line in f.readlines()]"
   ]
  },
  {
   "cell_type": "code",
   "execution_count": null,
   "id": "8c19caa4",
   "metadata": {},
   "outputs": [],
   "source": [
    "f = open('all_internal_ips', \"r\")\n",
    "data2 = [line.strip() for line in f.readlines()]"
   ]
  },
  {
   "cell_type": "code",
   "execution_count": null,
   "id": "d3420e79",
   "metadata": {},
   "outputs": [],
   "source": [
    "data2, len(data2)"
   ]
  },
  {
   "cell_type": "code",
   "execution_count": null,
   "id": "de4461fa",
   "metadata": {},
   "outputs": [],
   "source": [
    "data = []"
   ]
  },
  {
   "cell_type": "code",
   "execution_count": null,
   "id": "262f4c25",
   "metadata": {},
   "outputs": [],
   "source": [
    "\n",
    "skip_instances = 0\n",
    "    \n",
    "for i in range(skip_instances, len(data1)):\n",
    "    if data1[i]!='None':\n",
    "        data.append(data1[i] + '    ' + data2[i])\n"
   ]
  },
  {
   "cell_type": "code",
   "execution_count": null,
   "id": "7ae5275c",
   "metadata": {},
   "outputs": [],
   "source": [
    "data, len(data)"
   ]
  },
  {
   "cell_type": "code",
   "execution_count": null,
   "id": "187b00a4",
   "metadata": {},
   "outputs": [],
   "source": [
    "with open('replicas.txt', 'w') as f:\n",
    "    for line in data[:nnodes]:\n",
    "        f.write(\"%s\\n\" % line)"
   ]
  },
  {
   "cell_type": "code",
   "execution_count": null,
   "id": "a1290642",
   "metadata": {
    "scrolled": true
   },
   "outputs": [],
   "source": [
    "data, len(data)"
   ]
  },
  {
   "cell_type": "code",
   "execution_count": null,
   "id": "8f048dfa",
   "metadata": {},
   "outputs": [],
   "source": [
    "with open('clients.txt', 'w') as f:\n",
    "    for line in data[nnodes:]:\n",
    "\n",
    "        f.write(\"127.0.0.1\\n\")        "
   ]
  },
  {
   "cell_type": "code",
   "execution_count": null,
   "id": "1a88d75e",
   "metadata": {},
   "outputs": [],
   "source": [
    "os.system('cat clients.txt')"
   ]
  },
  {
   "cell_type": "code",
   "execution_count": null,
   "id": "25854cc4",
   "metadata": {},
   "outputs": [],
   "source": [
    "\n",
    "with open('all_external_ips') as f:\n",
    "    lines = f.read().splitlines()\n",
    "\n",
    "\n",
    "lines = [x for x in lines if x!='None']\n",
    "lines\n"
   ]
  },
  {
   "cell_type": "code",
   "execution_count": null,
   "id": "1cd438ec",
   "metadata": {},
   "outputs": [],
   "source": [
    "lines, len(lines)"
   ]
  },
  {
   "cell_type": "code",
   "execution_count": null,
   "id": "681c19b9",
   "metadata": {},
   "outputs": [],
   "source": [
    "\n",
    "\n",
    "def run_server_node(i):\n",
    "    ip = lines[i]\n",
    "    if ip!='None':\n",
    "\n",
    "        current = (ip.split('.'))\n",
    "        command = 'ssh  -o StrictHostKeyChecking=no -i /home/tejas/Downloads/MAKWest.pem '+'ubuntu@ec2-'+str(current[0])+'-'\\\n",
    "              +str(current[1])+'-'+str(current[2])+'-'+str(current[3])+'.us-west-1.compute.amazonaws.com -T \"cd /home/ubuntu/testbed/'+experiment+'/0/conf/; sudo nohup ../../../../libhotstuff/examples/hotstuff-app --conf '+'/home/ubuntu/testbed/'+experiment+'/0/conf/'+'hotstuff.gen-sec'+str(i)+'.conf >../nohup.out 2>&1 &\"'\n",
    "\n",
    "        print(command)\n",
    "        os.system(command)\n",
    "        \n",
    "        \n",
    "        "
   ]
  },
  {
   "cell_type": "code",
   "execution_count": null,
   "id": "965c9140",
   "metadata": {},
   "outputs": [],
   "source": [
    "experiment = '../temp'"
   ]
  },
  {
   "cell_type": "code",
   "execution_count": null,
   "id": "7e5e2462",
   "metadata": {},
   "outputs": [],
   "source": [
    "os.system(f'cd ../temp; echo {password} | sudo -S  rm *')"
   ]
  },
  {
   "cell_type": "code",
   "execution_count": null,
   "id": "e356c25a",
   "metadata": {},
   "outputs": [],
   "source": [
    "node_list = list(range(len(lines)))\n",
    "node_list\n",
    "\n",
    "node_list_server = node_list[:nnodes]\n",
    "node_list_client = node_list[-nclients:]\n",
    "\n",
    "node_list_server, node_list_client\n"
   ]
  },
  {
   "cell_type": "code",
   "execution_count": null,
   "id": "747c3fd0",
   "metadata": {},
   "outputs": [],
   "source": [
    "nnodes"
   ]
  },
  {
   "cell_type": "code",
   "execution_count": null,
   "id": "02ee50b7",
   "metadata": {},
   "outputs": [],
   "source": [
    "os.system(f'echo {password} | sudo -S rm ../'+experiment+'/nohup_*')\n",
    "\n",
    "\n",
    "os.system(f'echo {password} | sudo -S killall hotstuff-app')\n",
    "os.system(f'echo {password} | sudo -S killall hotstuff-client')\n",
    "os.system(f'echo {password} | sudo -S killall nohup')\n"
   ]
  },
  {
   "cell_type": "code",
   "execution_count": null,
   "id": "e2016cc3",
   "metadata": {
    "scrolled": true
   },
   "outputs": [],
   "source": [
    "os.system(f'echo {password} | sudo -S sh job_mini.sh '+ experiment)"
   ]
  },
  {
   "cell_type": "code",
   "execution_count": null,
   "id": "f1b55ef8",
   "metadata": {},
   "outputs": [],
   "source": [
    "        \n",
    "def run_node(i):\n",
    "    ip = lines[i]\n",
    "#     if ip!='None' and( ip in nodeIps[:-3]):\n",
    "    if ip!='None' and ip in lines[:nnodes]:\n",
    "\n",
    "        current = (ip.split('.'))\n",
    "        command = f'echo {password} | sudo -S nohup ../../examples/hotstuff-app --conf hotstuff.gen-sec'+str(i)+'.conf > ../temp/nohup_'+str(i)+'.out 2>&1 &'\n",
    "\n",
    "        print(command)\n",
    "        os.system(command)\n",
    "        \n",
    "        \n",
    "\n",
    "\n",
    "\n",
    "\n",
    "\n",
    "results = Parallel(n_jobs=len(lines))(delayed(run_node)(i) for i in [0,1,2,3,4,5,6,7])\n",
    "\n",
    "print(results)\n",
    "\n",
    "\n",
    "time.sleep(10)"
   ]
  },
  {
   "cell_type": "code",
   "execution_count": null,
   "id": "599b7d6b",
   "metadata": {},
   "outputs": [],
   "source": [
    "time.sleep(10)"
   ]
  },
  {
   "cell_type": "code",
   "execution_count": null,
   "id": "da0fe5cd",
   "metadata": {},
   "outputs": [],
   "source": [
    "def run_client(i):\n",
    "    ip = lines[i]\n",
    "    client_no = i - nnodes\n",
    "    if ip!='None' and( ip in lines[nnodes:]):\n",
    "        \n",
    "        current = (ip.split('.'))\n",
    "        command = f'echo {password} | sudo -S nohup ../../examples/hotstuff-client --idx '+str(client_no)+' --iter -1 --max-async 4 > ../temp/nohup_client_'+str(i)+'.out 2>&1 &'\n",
    "        \n",
    "        print(command)\n",
    "        os.system(command)\n",
    "\n",
    "\n",
    "\n",
    "results = Parallel(n_jobs=len(lines))(delayed(run_client)(i) for i in [8,9])\n",
    "\n",
    "# time.sleep(20)"
   ]
  },
  {
   "cell_type": "code",
   "execution_count": null,
   "id": "35163182",
   "metadata": {},
   "outputs": [],
   "source": [
    "# def run_client(i):\n",
    "#     ip = lines[i]\n",
    "#     client_no = i - nnodes\n",
    "#     if ip!='None' and( ip in lines[nnodes:]):\n",
    "        \n",
    "#         current = (ip.split('.'))\n",
    "#         command = f'echo {password} | sudo -S nohup ../../examples/hotstuff-client --idx '+str(client_no)+' --reconfig_client 1 --iter -1 --max-async 4 > ../temp/nohup_client_'+str(i)+'.out 2>&1 &'\n",
    "        \n",
    "#         print(command)\n",
    "#         os.system(command)\n",
    "\n",
    "# results = Parallel(n_jobs=len(lines))(delayed(run_client)(i) for i in [10])"
   ]
  },
  {
   "cell_type": "code",
   "execution_count": null,
   "id": "744fc534",
   "metadata": {},
   "outputs": [],
   "source": [
    "time.sleep(30)"
   ]
  },
  {
   "cell_type": "code",
   "execution_count": null,
   "id": "9e23419a",
   "metadata": {},
   "outputs": [],
   "source": [
    "# time.sleep(10)\n",
    "# os.system(f'echo {password} | sudo -S killall hotstuff-client')\n",
    "\n",
    "# def run_client(i):\n",
    "#     ip = lines[i]\n",
    "#     client_no = i - nnodes\n",
    "#     if ip!='None' and( ip in lines[nnodes:]):\n",
    "        \n",
    "#         current = (ip.split('.'))\n",
    "#         command = f'echo {password} | sudo -S nohup ../../examples/hotstuff-client --idx '+str(client_no)+' --iter -1 --max-async 4 > ../temp/nohup_client_'+str(i+2)+'.out 2>&1 &'\n",
    "        \n",
    "#         print(command)\n",
    "#         os.system(command)\n",
    "\n",
    "\n",
    "\n",
    "# results = Parallel(n_jobs=len(lines))(delayed(run_client)(i) for i in [8,9])\n",
    "# time.sleep(50)\n",
    "\n"
   ]
  },
  {
   "cell_type": "code",
   "execution_count": null,
   "id": "45f16d1f",
   "metadata": {},
   "outputs": [],
   "source": [
    "os.system(f'echo {password} | sudo -S killall hotstuff-client')\n",
    "\n",
    "\n",
    "os.system(f'echo {password} | sudo -S killall hotstuff-app')\n",
    "os.system(f'echo {password} | sudo -S killall nohup')"
   ]
  },
  {
   "cell_type": "code",
   "execution_count": null,
   "id": "a188250a",
   "metadata": {
    "scrolled": true
   },
   "outputs": [],
   "source": [
    "experiment = 'temp'\n",
    "X,Y, lats, temp = getThroughput(experiment)\n",
    "print(np.sum(Y)/len(Y), np.average(lats))"
   ]
  },
  {
   "cell_type": "code",
   "execution_count": null,
   "id": "ae45f5e7",
   "metadata": {
    "scrolled": false
   },
   "outputs": [],
   "source": [
    "fig = pl.figure(figsize = (12, 8))\n",
    "fig.patch.set_facecolor('white')\n",
    "pl.plot(X[:-1],Y[:-1], '-*')\n",
    "pl.xlabel('Time')\n",
    "pl.ylabel('Average Throughput (txn/sec)')\n",
    "pl.show()\n",
    "pl.clf()\n",
    "\n",
    "\n",
    "fig = pl.figure(figsize = (12, 8))\n",
    "fig.patch.set_facecolor('white')\n",
    "# pl.plot(X[:-1],Y[:-1], '-*')\n",
    "pl.plot(X[:-1],np.cumsum(Y[:-1]), '-*')\n",
    "\n",
    "pl.xlabel('Time')\n",
    "pl.ylabel('Cumulative Throughput (txns)')\n",
    "pl.show()\n",
    "pl.clf()"
   ]
  },
  {
   "cell_type": "code",
   "execution_count": null,
   "id": "1c6a86d1",
   "metadata": {},
   "outputs": [],
   "source": []
  }
 ],
 "metadata": {
  "kernelspec": {
   "display_name": "Python 3 (ipykernel)",
   "language": "python",
   "name": "python3"
  },
  "language_info": {
   "codemirror_mode": {
    "name": "ipython",
    "version": 3
   },
   "file_extension": ".py",
   "mimetype": "text/x-python",
   "name": "python",
   "nbconvert_exporter": "python",
   "pygments_lexer": "ipython3",
   "version": "3.11.5"
  }
 },
 "nbformat": 4,
 "nbformat_minor": 5
}
